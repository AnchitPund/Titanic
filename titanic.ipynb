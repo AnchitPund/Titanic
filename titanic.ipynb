{
 "cells": [
  {
   "cell_type": "code",
   "execution_count": 1,
   "id": "6e60658f",
   "metadata": {
    "_cell_guid": "b1076dfc-b9ad-4769-8c92-a6c4dae69d19",
    "_uuid": "8f2839f25d086af736a60e9eeb907d3b93b6e0e5",
    "execution": {
     "iopub.execute_input": "2022-08-22T04:00:42.845451Z",
     "iopub.status.busy": "2022-08-22T04:00:42.844685Z",
     "iopub.status.idle": "2022-08-22T04:00:42.866261Z",
     "shell.execute_reply": "2022-08-22T04:00:42.864794Z"
    },
    "papermill": {
     "duration": 0.038125,
     "end_time": "2022-08-22T04:00:42.870211",
     "exception": false,
     "start_time": "2022-08-22T04:00:42.832086",
     "status": "completed"
    },
    "tags": []
   },
   "outputs": [
    {
     "name": "stdout",
     "output_type": "stream",
     "text": [
      "/kaggle/input/titanic/train.csv\n",
      "/kaggle/input/titanic/test.csv\n",
      "/kaggle/input/titanic/gender_submission.csv\n"
     ]
    }
   ],
   "source": [
    "# This Python 3 environment comes with many helpful analytics libraries installed\n",
    "# It is defined by the kaggle/python Docker image: https://github.com/kaggle/docker-python\n",
    "# For example, here's several helpful packages to load\n",
    "\n",
    "import numpy as np # linear algebra\n",
    "import pandas as pd # data processing, CSV file I/O (e.g. pd.read_csv)\n",
    "\n",
    "# Input data files are available in the read-only \"../input/\" directory\n",
    "# For example, running this (by clicking run or pressing Shift+Enter) will list all files under the input directory\n",
    "\n",
    "import os\n",
    "for dirname, _, filenames in os.walk('/kaggle/input'):\n",
    "    for filename in filenames:\n",
    "        print(os.path.join(dirname, filename))\n",
    "\n",
    "# You can write up to 20GB to the current directory (/kaggle/working/) that gets preserved as output when you create a version using \"Save & Run All\" \n",
    "# You can also write temporary files to /kaggle/temp/, but they won't be saved outside of the current session"
   ]
  },
  {
   "cell_type": "code",
   "execution_count": 2,
   "id": "73943655",
   "metadata": {
    "execution": {
     "iopub.execute_input": "2022-08-22T04:00:42.891833Z",
     "iopub.status.busy": "2022-08-22T04:00:42.891280Z",
     "iopub.status.idle": "2022-08-22T04:00:42.921115Z",
     "shell.execute_reply": "2022-08-22T04:00:42.919890Z"
    },
    "papermill": {
     "duration": 0.043518,
     "end_time": "2022-08-22T04:00:42.924068",
     "exception": false,
     "start_time": "2022-08-22T04:00:42.880550",
     "status": "completed"
    },
    "tags": []
   },
   "outputs": [],
   "source": [
    "df_train = pd.read_csv('../input/titanic/train.csv')\n",
    "df_test = pd.read_csv('../input/titanic/test.csv')"
   ]
  },
  {
   "cell_type": "code",
   "execution_count": 3,
   "id": "731a8381",
   "metadata": {
    "execution": {
     "iopub.execute_input": "2022-08-22T04:00:42.945697Z",
     "iopub.status.busy": "2022-08-22T04:00:42.945095Z",
     "iopub.status.idle": "2022-08-22T04:00:42.976334Z",
     "shell.execute_reply": "2022-08-22T04:00:42.975223Z"
    },
    "papermill": {
     "duration": 0.044946,
     "end_time": "2022-08-22T04:00:42.978916",
     "exception": false,
     "start_time": "2022-08-22T04:00:42.933970",
     "status": "completed"
    },
    "tags": []
   },
   "outputs": [
    {
     "data": {
      "text/html": [
       "<div>\n",
       "<style scoped>\n",
       "    .dataframe tbody tr th:only-of-type {\n",
       "        vertical-align: middle;\n",
       "    }\n",
       "\n",
       "    .dataframe tbody tr th {\n",
       "        vertical-align: top;\n",
       "    }\n",
       "\n",
       "    .dataframe thead th {\n",
       "        text-align: right;\n",
       "    }\n",
       "</style>\n",
       "<table border=\"1\" class=\"dataframe\">\n",
       "  <thead>\n",
       "    <tr style=\"text-align: right;\">\n",
       "      <th></th>\n",
       "      <th>PassengerId</th>\n",
       "      <th>Survived</th>\n",
       "      <th>Pclass</th>\n",
       "      <th>Name</th>\n",
       "      <th>Sex</th>\n",
       "      <th>Age</th>\n",
       "      <th>SibSp</th>\n",
       "      <th>Parch</th>\n",
       "      <th>Ticket</th>\n",
       "      <th>Fare</th>\n",
       "      <th>Cabin</th>\n",
       "      <th>Embarked</th>\n",
       "    </tr>\n",
       "  </thead>\n",
       "  <tbody>\n",
       "    <tr>\n",
       "      <th>0</th>\n",
       "      <td>1</td>\n",
       "      <td>0</td>\n",
       "      <td>3</td>\n",
       "      <td>Braund, Mr. Owen Harris</td>\n",
       "      <td>male</td>\n",
       "      <td>22.0</td>\n",
       "      <td>1</td>\n",
       "      <td>0</td>\n",
       "      <td>A/5 21171</td>\n",
       "      <td>7.2500</td>\n",
       "      <td>NaN</td>\n",
       "      <td>S</td>\n",
       "    </tr>\n",
       "    <tr>\n",
       "      <th>1</th>\n",
       "      <td>2</td>\n",
       "      <td>1</td>\n",
       "      <td>1</td>\n",
       "      <td>Cumings, Mrs. John Bradley (Florence Briggs Th...</td>\n",
       "      <td>female</td>\n",
       "      <td>38.0</td>\n",
       "      <td>1</td>\n",
       "      <td>0</td>\n",
       "      <td>PC 17599</td>\n",
       "      <td>71.2833</td>\n",
       "      <td>C85</td>\n",
       "      <td>C</td>\n",
       "    </tr>\n",
       "    <tr>\n",
       "      <th>2</th>\n",
       "      <td>3</td>\n",
       "      <td>1</td>\n",
       "      <td>3</td>\n",
       "      <td>Heikkinen, Miss. Laina</td>\n",
       "      <td>female</td>\n",
       "      <td>26.0</td>\n",
       "      <td>0</td>\n",
       "      <td>0</td>\n",
       "      <td>STON/O2. 3101282</td>\n",
       "      <td>7.9250</td>\n",
       "      <td>NaN</td>\n",
       "      <td>S</td>\n",
       "    </tr>\n",
       "    <tr>\n",
       "      <th>3</th>\n",
       "      <td>4</td>\n",
       "      <td>1</td>\n",
       "      <td>1</td>\n",
       "      <td>Futrelle, Mrs. Jacques Heath (Lily May Peel)</td>\n",
       "      <td>female</td>\n",
       "      <td>35.0</td>\n",
       "      <td>1</td>\n",
       "      <td>0</td>\n",
       "      <td>113803</td>\n",
       "      <td>53.1000</td>\n",
       "      <td>C123</td>\n",
       "      <td>S</td>\n",
       "    </tr>\n",
       "    <tr>\n",
       "      <th>4</th>\n",
       "      <td>5</td>\n",
       "      <td>0</td>\n",
       "      <td>3</td>\n",
       "      <td>Allen, Mr. William Henry</td>\n",
       "      <td>male</td>\n",
       "      <td>35.0</td>\n",
       "      <td>0</td>\n",
       "      <td>0</td>\n",
       "      <td>373450</td>\n",
       "      <td>8.0500</td>\n",
       "      <td>NaN</td>\n",
       "      <td>S</td>\n",
       "    </tr>\n",
       "  </tbody>\n",
       "</table>\n",
       "</div>"
      ],
      "text/plain": [
       "   PassengerId  Survived  Pclass  \\\n",
       "0            1         0       3   \n",
       "1            2         1       1   \n",
       "2            3         1       3   \n",
       "3            4         1       1   \n",
       "4            5         0       3   \n",
       "\n",
       "                                                Name     Sex   Age  SibSp  \\\n",
       "0                            Braund, Mr. Owen Harris    male  22.0      1   \n",
       "1  Cumings, Mrs. John Bradley (Florence Briggs Th...  female  38.0      1   \n",
       "2                             Heikkinen, Miss. Laina  female  26.0      0   \n",
       "3       Futrelle, Mrs. Jacques Heath (Lily May Peel)  female  35.0      1   \n",
       "4                           Allen, Mr. William Henry    male  35.0      0   \n",
       "\n",
       "   Parch            Ticket     Fare Cabin Embarked  \n",
       "0      0         A/5 21171   7.2500   NaN        S  \n",
       "1      0          PC 17599  71.2833   C85        C  \n",
       "2      0  STON/O2. 3101282   7.9250   NaN        S  \n",
       "3      0            113803  53.1000  C123        S  \n",
       "4      0            373450   8.0500   NaN        S  "
      ]
     },
     "execution_count": 3,
     "metadata": {},
     "output_type": "execute_result"
    }
   ],
   "source": [
    "df_train.head()"
   ]
  },
  {
   "cell_type": "code",
   "execution_count": 4,
   "id": "d35122ca",
   "metadata": {
    "execution": {
     "iopub.execute_input": "2022-08-22T04:00:43.000298Z",
     "iopub.status.busy": "2022-08-22T04:00:42.999339Z",
     "iopub.status.idle": "2022-08-22T04:00:43.036577Z",
     "shell.execute_reply": "2022-08-22T04:00:43.034861Z"
    },
    "papermill": {
     "duration": 0.052821,
     "end_time": "2022-08-22T04:00:43.041016",
     "exception": false,
     "start_time": "2022-08-22T04:00:42.988195",
     "status": "completed"
    },
    "tags": []
   },
   "outputs": [
    {
     "name": "stdout",
     "output_type": "stream",
     "text": [
      "<class 'pandas.core.frame.DataFrame'>\n",
      "RangeIndex: 891 entries, 0 to 890\n",
      "Data columns (total 12 columns):\n",
      " #   Column       Non-Null Count  Dtype  \n",
      "---  ------       --------------  -----  \n",
      " 0   PassengerId  891 non-null    int64  \n",
      " 1   Survived     891 non-null    int64  \n",
      " 2   Pclass       891 non-null    int64  \n",
      " 3   Name         891 non-null    object \n",
      " 4   Sex          891 non-null    object \n",
      " 5   Age          714 non-null    float64\n",
      " 6   SibSp        891 non-null    int64  \n",
      " 7   Parch        891 non-null    int64  \n",
      " 8   Ticket       891 non-null    object \n",
      " 9   Fare         891 non-null    float64\n",
      " 10  Cabin        204 non-null    object \n",
      " 11  Embarked     889 non-null    object \n",
      "dtypes: float64(2), int64(5), object(5)\n",
      "memory usage: 83.7+ KB\n"
     ]
    }
   ],
   "source": [
    "df_train.info()"
   ]
  },
  {
   "cell_type": "code",
   "execution_count": 5,
   "id": "e53cf9e6",
   "metadata": {
    "execution": {
     "iopub.execute_input": "2022-08-22T04:00:43.062395Z",
     "iopub.status.busy": "2022-08-22T04:00:43.061400Z",
     "iopub.status.idle": "2022-08-22T04:00:43.081588Z",
     "shell.execute_reply": "2022-08-22T04:00:43.080092Z"
    },
    "papermill": {
     "duration": 0.034067,
     "end_time": "2022-08-22T04:00:43.084501",
     "exception": false,
     "start_time": "2022-08-22T04:00:43.050434",
     "status": "completed"
    },
    "tags": []
   },
   "outputs": [
    {
     "data": {
      "text/html": [
       "<div>\n",
       "<style scoped>\n",
       "    .dataframe tbody tr th:only-of-type {\n",
       "        vertical-align: middle;\n",
       "    }\n",
       "\n",
       "    .dataframe tbody tr th {\n",
       "        vertical-align: top;\n",
       "    }\n",
       "\n",
       "    .dataframe thead th {\n",
       "        text-align: right;\n",
       "    }\n",
       "</style>\n",
       "<table border=\"1\" class=\"dataframe\">\n",
       "  <thead>\n",
       "    <tr style=\"text-align: right;\">\n",
       "      <th></th>\n",
       "      <th>PassengerId</th>\n",
       "      <th>Pclass</th>\n",
       "      <th>Name</th>\n",
       "      <th>Sex</th>\n",
       "      <th>Age</th>\n",
       "      <th>SibSp</th>\n",
       "      <th>Parch</th>\n",
       "      <th>Ticket</th>\n",
       "      <th>Fare</th>\n",
       "      <th>Cabin</th>\n",
       "      <th>Embarked</th>\n",
       "    </tr>\n",
       "  </thead>\n",
       "  <tbody>\n",
       "    <tr>\n",
       "      <th>0</th>\n",
       "      <td>892</td>\n",
       "      <td>3</td>\n",
       "      <td>Kelly, Mr. James</td>\n",
       "      <td>male</td>\n",
       "      <td>34.5</td>\n",
       "      <td>0</td>\n",
       "      <td>0</td>\n",
       "      <td>330911</td>\n",
       "      <td>7.8292</td>\n",
       "      <td>NaN</td>\n",
       "      <td>Q</td>\n",
       "    </tr>\n",
       "    <tr>\n",
       "      <th>1</th>\n",
       "      <td>893</td>\n",
       "      <td>3</td>\n",
       "      <td>Wilkes, Mrs. James (Ellen Needs)</td>\n",
       "      <td>female</td>\n",
       "      <td>47.0</td>\n",
       "      <td>1</td>\n",
       "      <td>0</td>\n",
       "      <td>363272</td>\n",
       "      <td>7.0000</td>\n",
       "      <td>NaN</td>\n",
       "      <td>S</td>\n",
       "    </tr>\n",
       "    <tr>\n",
       "      <th>2</th>\n",
       "      <td>894</td>\n",
       "      <td>2</td>\n",
       "      <td>Myles, Mr. Thomas Francis</td>\n",
       "      <td>male</td>\n",
       "      <td>62.0</td>\n",
       "      <td>0</td>\n",
       "      <td>0</td>\n",
       "      <td>240276</td>\n",
       "      <td>9.6875</td>\n",
       "      <td>NaN</td>\n",
       "      <td>Q</td>\n",
       "    </tr>\n",
       "    <tr>\n",
       "      <th>3</th>\n",
       "      <td>895</td>\n",
       "      <td>3</td>\n",
       "      <td>Wirz, Mr. Albert</td>\n",
       "      <td>male</td>\n",
       "      <td>27.0</td>\n",
       "      <td>0</td>\n",
       "      <td>0</td>\n",
       "      <td>315154</td>\n",
       "      <td>8.6625</td>\n",
       "      <td>NaN</td>\n",
       "      <td>S</td>\n",
       "    </tr>\n",
       "    <tr>\n",
       "      <th>4</th>\n",
       "      <td>896</td>\n",
       "      <td>3</td>\n",
       "      <td>Hirvonen, Mrs. Alexander (Helga E Lindqvist)</td>\n",
       "      <td>female</td>\n",
       "      <td>22.0</td>\n",
       "      <td>1</td>\n",
       "      <td>1</td>\n",
       "      <td>3101298</td>\n",
       "      <td>12.2875</td>\n",
       "      <td>NaN</td>\n",
       "      <td>S</td>\n",
       "    </tr>\n",
       "  </tbody>\n",
       "</table>\n",
       "</div>"
      ],
      "text/plain": [
       "   PassengerId  Pclass                                          Name     Sex  \\\n",
       "0          892       3                              Kelly, Mr. James    male   \n",
       "1          893       3              Wilkes, Mrs. James (Ellen Needs)  female   \n",
       "2          894       2                     Myles, Mr. Thomas Francis    male   \n",
       "3          895       3                              Wirz, Mr. Albert    male   \n",
       "4          896       3  Hirvonen, Mrs. Alexander (Helga E Lindqvist)  female   \n",
       "\n",
       "    Age  SibSp  Parch   Ticket     Fare Cabin Embarked  \n",
       "0  34.5      0      0   330911   7.8292   NaN        Q  \n",
       "1  47.0      1      0   363272   7.0000   NaN        S  \n",
       "2  62.0      0      0   240276   9.6875   NaN        Q  \n",
       "3  27.0      0      0   315154   8.6625   NaN        S  \n",
       "4  22.0      1      1  3101298  12.2875   NaN        S  "
      ]
     },
     "execution_count": 5,
     "metadata": {},
     "output_type": "execute_result"
    }
   ],
   "source": [
    "df_test.head()"
   ]
  },
  {
   "cell_type": "code",
   "execution_count": 6,
   "id": "826e6af1",
   "metadata": {
    "execution": {
     "iopub.execute_input": "2022-08-22T04:00:43.105731Z",
     "iopub.status.busy": "2022-08-22T04:00:43.105212Z",
     "iopub.status.idle": "2022-08-22T04:00:43.122835Z",
     "shell.execute_reply": "2022-08-22T04:00:43.120550Z"
    },
    "papermill": {
     "duration": 0.032333,
     "end_time": "2022-08-22T04:00:43.126278",
     "exception": false,
     "start_time": "2022-08-22T04:00:43.093945",
     "status": "completed"
    },
    "tags": []
   },
   "outputs": [
    {
     "name": "stdout",
     "output_type": "stream",
     "text": [
      "<class 'pandas.core.frame.DataFrame'>\n",
      "RangeIndex: 418 entries, 0 to 417\n",
      "Data columns (total 11 columns):\n",
      " #   Column       Non-Null Count  Dtype  \n",
      "---  ------       --------------  -----  \n",
      " 0   PassengerId  418 non-null    int64  \n",
      " 1   Pclass       418 non-null    int64  \n",
      " 2   Name         418 non-null    object \n",
      " 3   Sex          418 non-null    object \n",
      " 4   Age          332 non-null    float64\n",
      " 5   SibSp        418 non-null    int64  \n",
      " 6   Parch        418 non-null    int64  \n",
      " 7   Ticket       418 non-null    object \n",
      " 8   Fare         417 non-null    float64\n",
      " 9   Cabin        91 non-null     object \n",
      " 10  Embarked     418 non-null    object \n",
      "dtypes: float64(2), int64(4), object(5)\n",
      "memory usage: 36.0+ KB\n"
     ]
    }
   ],
   "source": [
    "df_test.info()"
   ]
  },
  {
   "cell_type": "code",
   "execution_count": 7,
   "id": "3f02d52d",
   "metadata": {
    "execution": {
     "iopub.execute_input": "2022-08-22T04:00:43.147457Z",
     "iopub.status.busy": "2022-08-22T04:00:43.146865Z",
     "iopub.status.idle": "2022-08-22T04:00:43.162480Z",
     "shell.execute_reply": "2022-08-22T04:00:43.160786Z"
    },
    "papermill": {
     "duration": 0.029424,
     "end_time": "2022-08-22T04:00:43.165289",
     "exception": false,
     "start_time": "2022-08-22T04:00:43.135865",
     "status": "completed"
    },
    "tags": []
   },
   "outputs": [],
   "source": [
    "df_train.Sex = df_train.Sex.astype('category').cat.codes\n",
    "df_test.Sex = df_test.Sex.astype('category').cat.codes\n",
    "df_train.Embarked = df_train.Embarked.astype('category').cat.codes\n",
    "df_test.Embarked = df_test.Embarked.astype('category').cat.codes"
   ]
  },
  {
   "cell_type": "code",
   "execution_count": 8,
   "id": "1608f93b",
   "metadata": {
    "execution": {
     "iopub.execute_input": "2022-08-22T04:00:43.187746Z",
     "iopub.status.busy": "2022-08-22T04:00:43.187251Z",
     "iopub.status.idle": "2022-08-22T04:00:43.196427Z",
     "shell.execute_reply": "2022-08-22T04:00:43.195155Z"
    },
    "papermill": {
     "duration": 0.023175,
     "end_time": "2022-08-22T04:00:43.199245",
     "exception": false,
     "start_time": "2022-08-22T04:00:43.176070",
     "status": "completed"
    },
    "tags": []
   },
   "outputs": [],
   "source": [
    "df_train.Age.fillna(int(df_train.Age.mean()), inplace=True)\n",
    "df_test.Age.fillna(int(df_test.Age.mean()), inplace=True)\n",
    "df_train.Embarked.fillna(int(df_train.Embarked.mean()), inplace=True)\n",
    "df_test.Fare.fillna(int(df_test.Fare.mean()), inplace=True)"
   ]
  },
  {
   "cell_type": "code",
   "execution_count": 9,
   "id": "e44e3727",
   "metadata": {
    "execution": {
     "iopub.execute_input": "2022-08-22T04:00:43.222095Z",
     "iopub.status.busy": "2022-08-22T04:00:43.220422Z",
     "iopub.status.idle": "2022-08-22T04:00:44.578985Z",
     "shell.execute_reply": "2022-08-22T04:00:44.577806Z"
    },
    "papermill": {
     "duration": 1.372816,
     "end_time": "2022-08-22T04:00:44.581922",
     "exception": false,
     "start_time": "2022-08-22T04:00:43.209106",
     "status": "completed"
    },
    "tags": []
   },
   "outputs": [],
   "source": [
    "import matplotlib as mlp\n",
    "import matplotlib.pyplot as plt\n",
    "%matplotlib inline\n",
    "import seaborn as sns\n",
    "from matplotlib import rcParams\n",
    "rcParams['figure.figsize'] = 10, 5"
   ]
  },
  {
   "cell_type": "code",
   "execution_count": 10,
   "id": "ae8c5b0b",
   "metadata": {
    "execution": {
     "iopub.execute_input": "2022-08-22T04:00:44.602718Z",
     "iopub.status.busy": "2022-08-22T04:00:44.602181Z",
     "iopub.status.idle": "2022-08-22T04:00:45.106099Z",
     "shell.execute_reply": "2022-08-22T04:00:45.104310Z"
    },
    "papermill": {
     "duration": 0.518089,
     "end_time": "2022-08-22T04:00:45.109397",
     "exception": false,
     "start_time": "2022-08-22T04:00:44.591308",
     "status": "completed"
    },
    "tags": []
   },
   "outputs": [
    {
     "data": {
      "text/plain": [
       "<AxesSubplot:xlabel='Age', ylabel='Count'>"
      ]
     },
     "execution_count": 10,
     "metadata": {},
     "output_type": "execute_result"
    },
    {
     "data": {
      "image/png": "[encoded data removed]",
      "text/plain": [
       "<Figure size 720x360 with 1 Axes>"
      ]
     },
     "metadata": {
      "needs_background": "light"
     },
     "output_type": "display_data"
    }
   ],
   "source": [
    "sns.histplot(x='Age', hue='Survived', bins=40, data=df_train)"
   ]
  },
  {
   "cell_type": "code",
   "execution_count": 11,
   "id": "6b6931a0",
   "metadata": {
    "execution": {
     "iopub.execute_input": "2022-08-22T04:00:45.134416Z",
     "iopub.status.busy": "2022-08-22T04:00:45.133498Z",
     "iopub.status.idle": "2022-08-22T04:00:45.397788Z",
     "shell.execute_reply": "2022-08-22T04:00:45.396393Z"
    },
    "papermill": {
     "duration": 0.280651,
     "end_time": "2022-08-22T04:00:45.400805",
     "exception": false,
     "start_time": "2022-08-22T04:00:45.120154",
     "status": "completed"
    },
    "tags": []
   },
   "outputs": [
    {
     "data": {
      "text/plain": [
       "<AxesSubplot:xlabel='Fare', ylabel='Count'>"
      ]
     },
     "execution_count": 11,
     "metadata": {},
     "output_type": "execute_result"
    },
    {
     "data": {
      "image/png": "[encoded data removed]",
      "text/plain": [
       "<Figure size 720x360 with 1 Axes>"
      ]
     },
     "metadata": {
      "needs_background": "light"
     },
     "output_type": "display_data"
    }
   ],
   "source": [
    "lst = ['Lower', 'Lower-Middle', 'Middle', 'High']\n",
    "sns.histplot(x=pd.cut(df_train.Fare, 4, labels=lst), hue='Survived', data=df_train)"
   ]
  },
  {
   "cell_type": "code",
   "execution_count": 12,
   "id": "65510044",
   "metadata": {
    "execution": {
     "iopub.execute_input": "2022-08-22T04:00:45.424772Z",
     "iopub.status.busy": "2022-08-22T04:00:45.423312Z",
     "iopub.status.idle": "2022-08-22T04:00:45.660821Z",
     "shell.execute_reply": "2022-08-22T04:00:45.659380Z"
    },
    "papermill": {
     "duration": 0.252454,
     "end_time": "2022-08-22T04:00:45.663800",
     "exception": false,
     "start_time": "2022-08-22T04:00:45.411346",
     "status": "completed"
    },
    "tags": []
   },
   "outputs": [
    {
     "data": {
      "text/plain": [
       "<AxesSubplot:xlabel='Pclass', ylabel='count'>"
      ]
     },
     "execution_count": 12,
     "metadata": {},
     "output_type": "execute_result"
    },
    {
     "data": {
      "image/png": "[encoded data removed]",
      "text/plain": [
       "<Figure size 720x360 with 1 Axes>"
      ]
     },
     "metadata": {
      "needs_background": "light"
     },
     "output_type": "display_data"
    }
   ],
   "source": [
    "sns.countplot(x='Pclass', hue='Survived', data=df_train)"
   ]
  },
  {
   "cell_type": "code",
   "execution_count": 13,
   "id": "37a8c330",
   "metadata": {
    "execution": {
     "iopub.execute_input": "2022-08-22T04:00:45.687617Z",
     "iopub.status.busy": "2022-08-22T04:00:45.687085Z",
     "iopub.status.idle": "2022-08-22T04:00:45.899590Z",
     "shell.execute_reply": "2022-08-22T04:00:45.898275Z"
    },
    "papermill": {
     "duration": 0.227796,
     "end_time": "2022-08-22T04:00:45.902485",
     "exception": false,
     "start_time": "2022-08-22T04:00:45.674689",
     "status": "completed"
    },
    "tags": []
   },
   "outputs": [
    {
     "data": {
      "text/plain": [
       "<AxesSubplot:xlabel='Sex', ylabel='count'>"
      ]
     },
     "execution_count": 13,
     "metadata": {},
     "output_type": "execute_result"
    },
    {
     "data": {
      "image/png": "[encoded data removed]",
      "text/plain": [
       "<Figure size 720x360 with 1 Axes>"
      ]
     },
     "metadata": {
      "needs_background": "light"
     },
     "output_type": "display_data"
    }
   ],
   "source": [
    "sns.countplot(x='Sex', hue='Survived', data=df_train)"
   ]
  },
  {
   "cell_type": "code",
   "execution_count": 14,
   "id": "5517851e",
   "metadata": {
    "execution": {
     "iopub.execute_input": "2022-08-22T04:00:45.927049Z",
     "iopub.status.busy": "2022-08-22T04:00:45.926461Z",
     "iopub.status.idle": "2022-08-22T04:00:46.208278Z",
     "shell.execute_reply": "2022-08-22T04:00:46.206910Z"
    },
    "papermill": {
     "duration": 0.297761,
     "end_time": "2022-08-22T04:00:46.211378",
     "exception": false,
     "start_time": "2022-08-22T04:00:45.913617",
     "status": "completed"
    },
    "tags": []
   },
   "outputs": [
    {
     "data": {
      "text/plain": [
       "<AxesSubplot:xlabel='SibSp', ylabel='count'>"
      ]
     },
     "execution_count": 14,
     "metadata": {},
     "output_type": "execute_result"
    },
    {
     "data": {
      "image/png": "[encoded data removed]",
      "text/plain": [
       "<Figure size 720x360 with 1 Axes>"
      ]
     },
     "metadata": {
      "needs_background": "light"
     },
     "output_type": "display_data"
    }
   ],
   "source": [
    "sns.countplot(x='SibSp', hue='Survived', data=df_train)"
   ]
  },
  {
   "cell_type": "code",
   "execution_count": 15,
   "id": "848adf04",
   "metadata": {
    "execution": {
     "iopub.execute_input": "2022-08-22T04:00:46.237133Z",
     "iopub.status.busy": "2022-08-22T04:00:46.235809Z",
     "iopub.status.idle": "2022-08-22T04:00:46.549128Z",
     "shell.execute_reply": "2022-08-22T04:00:46.547959Z"
    },
    "papermill": {
     "duration": 0.328858,
     "end_time": "2022-08-22T04:00:46.551952",
     "exception": false,
     "start_time": "2022-08-22T04:00:46.223094",
     "status": "completed"
    },
    "tags": []
   },
   "outputs": [
    {
     "data": {
      "text/plain": [
       "<AxesSubplot:xlabel='Parch', ylabel='Count'>"
      ]
     },
     "execution_count": 15,
     "metadata": {},
     "output_type": "execute_result"
    },
    {
     "data": {
      "image/png": "[encoded data removed]",
      "text/plain": [
       "<Figure size 720x360 with 1 Axes>"
      ]
     },
     "metadata": {
      "needs_background": "light"
     },
     "output_type": "display_data"
    }
   ],
   "source": [
    "sns.histplot(x='Parch', hue='Survived', data=df_train)"
   ]
  },
  {
   "cell_type": "code",
   "execution_count": 16,
   "id": "2afd33d3",
   "metadata": {
    "execution": {
     "iopub.execute_input": "2022-08-22T04:00:46.579609Z",
     "iopub.status.busy": "2022-08-22T04:00:46.579072Z",
     "iopub.status.idle": "2022-08-22T04:00:46.838783Z",
     "shell.execute_reply": "2022-08-22T04:00:46.837364Z"
    },
    "papermill": {
     "duration": 0.277269,
     "end_time": "2022-08-22T04:00:46.842297",
     "exception": false,
     "start_time": "2022-08-22T04:00:46.565028",
     "status": "completed"
    },
    "tags": []
   },
   "outputs": [
    {
     "data": {
      "text/plain": [
       "<AxesSubplot:xlabel='Embarked', ylabel='count'>"
      ]
     },
     "execution_count": 16,
     "metadata": {},
     "output_type": "execute_result"
    },
    {
     "data": {
      "image/png": "[encoded data removed]",
      "text/plain": [
       "<Figure size 720x360 with 1 Axes>"
      ]
     },
     "metadata": {
      "needs_background": "light"
     },
     "output_type": "display_data"
    }
   ],
   "source": [
    "sns.countplot(x='Embarked', hue='Survived', data=df_train)"
   ]
  },
  {
   "cell_type": "code",
   "execution_count": 17,
   "id": "1835b5cf",
   "metadata": {
    "execution": {
     "iopub.execute_input": "2022-08-22T04:00:46.871787Z",
     "iopub.status.busy": "2022-08-22T04:00:46.871139Z",
     "iopub.status.idle": "2022-08-22T04:00:47.214834Z",
     "shell.execute_reply": "2022-08-22T04:00:47.213276Z"
    },
    "papermill": {
     "duration": 0.361753,
     "end_time": "2022-08-22T04:00:47.218284",
     "exception": false,
     "start_time": "2022-08-22T04:00:46.856531",
     "status": "completed"
    },
    "tags": []
   },
   "outputs": [],
   "source": [
    "from sklearn.preprocessing import MinMaxScaler\n",
    "from sklearn.linear_model import LogisticRegression\n",
    "from sklearn.metrics import confusion_matrix, ConfusionMatrixDisplay"
   ]
  },
  {
   "cell_type": "code",
   "execution_count": 18,
   "id": "62f63d5a",
   "metadata": {
    "execution": {
     "iopub.execute_input": "2022-08-22T04:00:47.244268Z",
     "iopub.status.busy": "2022-08-22T04:00:47.243765Z",
     "iopub.status.idle": "2022-08-22T04:00:47.254193Z",
     "shell.execute_reply": "2022-08-22T04:00:47.252907Z"
    },
    "papermill": {
     "duration": 0.026553,
     "end_time": "2022-08-22T04:00:47.256875",
     "exception": false,
     "start_time": "2022-08-22T04:00:47.230322",
     "status": "completed"
    },
    "tags": []
   },
   "outputs": [],
   "source": [
    "df_train = df_train.drop(['Name','Ticket','Cabin'], axis=1)\n",
    "df_test = df_test.drop(['Name','Ticket','Cabin'], axis=1)"
   ]
  },
  {
   "cell_type": "code",
   "execution_count": 19,
   "id": "a3ed022d",
   "metadata": {
    "execution": {
     "iopub.execute_input": "2022-08-22T04:00:47.283416Z",
     "iopub.status.busy": "2022-08-22T04:00:47.282883Z",
     "iopub.status.idle": "2022-08-22T04:00:47.295407Z",
     "shell.execute_reply": "2022-08-22T04:00:47.293786Z"
    },
    "papermill": {
     "duration": 0.029754,
     "end_time": "2022-08-22T04:00:47.298678",
     "exception": false,
     "start_time": "2022-08-22T04:00:47.268924",
     "status": "completed"
    },
    "tags": []
   },
   "outputs": [],
   "source": [
    "df_train.Age = MinMaxScaler().fit_transform(np.array(df_train.Age).reshape(-1,1))\n",
    "df_train.Fare = MinMaxScaler().fit_transform(np.array(df_train.Fare).reshape(-1,1))\n",
    "df_test.Age = MinMaxScaler().fit_transform(np.array(df_test.Age).reshape(-1,1))\n",
    "df_test.Fare = MinMaxScaler().fit_transform(np.array(df_test.Fare).reshape(-1,1))"
   ]
  },
  {
   "cell_type": "code",
   "execution_count": 20,
   "id": "d7b71046",
   "metadata": {
    "execution": {
     "iopub.execute_input": "2022-08-22T04:00:47.324846Z",
     "iopub.status.busy": "2022-08-22T04:00:47.324281Z",
     "iopub.status.idle": "2022-08-22T04:00:47.331676Z",
     "shell.execute_reply": "2022-08-22T04:00:47.330122Z"
    },
    "papermill": {
     "duration": 0.023586,
     "end_time": "2022-08-22T04:00:47.334287",
     "exception": false,
     "start_time": "2022-08-22T04:00:47.310701",
     "status": "completed"
    },
    "tags": []
   },
   "outputs": [],
   "source": [
    "x = df_train.drop('Survived', axis=1)"
   ]
  },
  {
   "cell_type": "code",
   "execution_count": 21,
   "id": "31024cb7",
   "metadata": {
    "execution": {
     "iopub.execute_input": "2022-08-22T04:00:47.360618Z",
     "iopub.status.busy": "2022-08-22T04:00:47.360084Z",
     "iopub.status.idle": "2022-08-22T04:00:47.366269Z",
     "shell.execute_reply": "2022-08-22T04:00:47.364858Z"
    },
    "papermill": {
     "duration": 0.022615,
     "end_time": "2022-08-22T04:00:47.368970",
     "exception": false,
     "start_time": "2022-08-22T04:00:47.346355",
     "status": "completed"
    },
    "tags": []
   },
   "outputs": [],
   "source": [
    "y = df_train.Survived"
   ]
  },
  {
   "cell_type": "code",
   "execution_count": 22,
   "id": "83c73d2f",
   "metadata": {
    "execution": {
     "iopub.execute_input": "2022-08-22T04:00:47.395286Z",
     "iopub.status.busy": "2022-08-22T04:00:47.394807Z",
     "iopub.status.idle": "2022-08-22T04:00:47.402069Z",
     "shell.execute_reply": "2022-08-22T04:00:47.400464Z"
    },
    "papermill": {
     "duration": 0.024319,
     "end_time": "2022-08-22T04:00:47.405326",
     "exception": false,
     "start_time": "2022-08-22T04:00:47.381007",
     "status": "completed"
    },
    "tags": []
   },
   "outputs": [
    {
     "name": "stdout",
     "output_type": "stream",
     "text": [
      "x size: (891, 8)\n",
      "y size: (891,)\n"
     ]
    }
   ],
   "source": [
    "print('x size:', x.shape)\n",
    "print('y size:', y.shape)"
   ]
  },
  {
   "cell_type": "markdown",
   "id": "0e8c87cd",
   "metadata": {
    "papermill": {
     "duration": 0.011746,
     "end_time": "2022-08-22T04:00:47.430612",
     "exception": false,
     "start_time": "2022-08-22T04:00:47.418866",
     "status": "completed"
    },
    "tags": []
   },
   "source": [
    "# Logistic Regression"
   ]
  },
  {
   "cell_type": "code",
   "execution_count": 23,
   "id": "a7d73cd3",
   "metadata": {
    "execution": {
     "iopub.execute_input": "2022-08-22T04:00:47.456793Z",
     "iopub.status.busy": "2022-08-22T04:00:47.456280Z",
     "iopub.status.idle": "2022-08-22T04:00:47.460994Z",
     "shell.execute_reply": "2022-08-22T04:00:47.460049Z"
    },
    "papermill": {
     "duration": 0.020617,
     "end_time": "2022-08-22T04:00:47.463276",
     "exception": false,
     "start_time": "2022-08-22T04:00:47.442659",
     "status": "completed"
    },
    "tags": []
   },
   "outputs": [],
   "source": [
    "lr = LogisticRegression(C=0.01, solver='lbfgs')"
   ]
  },
  {
   "cell_type": "code",
   "execution_count": 24,
   "id": "d5708c14",
   "metadata": {
    "execution": {
     "iopub.execute_input": "2022-08-22T04:00:47.490867Z",
     "iopub.status.busy": "2022-08-22T04:00:47.489183Z",
     "iopub.status.idle": "2022-08-22T04:00:47.553526Z",
     "shell.execute_reply": "2022-08-22T04:00:47.552201Z"
    },
    "papermill": {
     "duration": 0.083416,
     "end_time": "2022-08-22T04:00:47.558934",
     "exception": false,
     "start_time": "2022-08-22T04:00:47.475518",
     "status": "completed"
    },
    "tags": []
   },
   "outputs": [
    {
     "name": "stderr",
     "output_type": "stream",
     "text": [
      "/opt/conda/lib/python3.7/site-packages/sklearn/linear_model/_logistic.py:818: ConvergenceWarning: lbfgs failed to converge (status=1):\n",
      "STOP: TOTAL NO. of ITERATIONS REACHED LIMIT.\n",
      "\n",
      "Increase the number of iterations (max_iter) or scale the data as shown in:\n",
      "    https://scikit-learn.org/stable/modules/preprocessing.html\n",
      "Please also refer to the documentation for alternative solver options:\n",
      "    https://scikit-learn.org/stable/modules/linear_model.html#logistic-regression\n",
      "  extra_warning_msg=_LOGISTIC_SOLVER_CONVERGENCE_MSG,\n"
     ]
    },
    {
     "data": {
      "text/plain": [
       "LogisticRegression(C=0.01)"
      ]
     },
     "execution_count": 24,
     "metadata": {},
     "output_type": "execute_result"
    }
   ],
   "source": [
    "lr.fit(x, y)"
   ]
  },
  {
   "cell_type": "code",
   "execution_count": 25,
   "id": "545fae95",
   "metadata": {
    "execution": {
     "iopub.execute_input": "2022-08-22T04:00:47.587037Z",
     "iopub.status.busy": "2022-08-22T04:00:47.585610Z",
     "iopub.status.idle": "2022-08-22T04:00:47.598204Z",
     "shell.execute_reply": "2022-08-22T04:00:47.596761Z"
    },
    "papermill": {
     "duration": 0.02982,
     "end_time": "2022-08-22T04:00:47.601021",
     "exception": false,
     "start_time": "2022-08-22T04:00:47.571201",
     "status": "completed"
    },
    "tags": []
   },
   "outputs": [
    {
     "data": {
      "text/plain": [
       "0.7620650953984287"
      ]
     },
     "execution_count": 25,
     "metadata": {},
     "output_type": "execute_result"
    }
   ],
   "source": [
    "lr.score(x, y)"
   ]
  },
  {
   "cell_type": "code",
   "execution_count": 26,
   "id": "8ec197a5",
   "metadata": {
    "execution": {
     "iopub.execute_input": "2022-08-22T04:00:47.628317Z",
     "iopub.status.busy": "2022-08-22T04:00:47.627333Z",
     "iopub.status.idle": "2022-08-22T04:00:47.636320Z",
     "shell.execute_reply": "2022-08-22T04:00:47.635231Z"
    },
    "papermill": {
     "duration": 0.025805,
     "end_time": "2022-08-22T04:00:47.639141",
     "exception": false,
     "start_time": "2022-08-22T04:00:47.613336",
     "status": "completed"
    },
    "tags": []
   },
   "outputs": [],
   "source": [
    "yhat = lr.predict(x)"
   ]
  },
  {
   "cell_type": "code",
   "execution_count": 27,
   "id": "69e1bd8e",
   "metadata": {
    "execution": {
     "iopub.execute_input": "2022-08-22T04:00:47.666467Z",
     "iopub.status.busy": "2022-08-22T04:00:47.665496Z",
     "iopub.status.idle": "2022-08-22T04:00:47.920258Z",
     "shell.execute_reply": "2022-08-22T04:00:47.918821Z"
    },
    "papermill": {
     "duration": 0.271979,
     "end_time": "2022-08-22T04:00:47.923504",
     "exception": false,
     "start_time": "2022-08-22T04:00:47.651525",
     "status": "completed"
    },
    "tags": []
   },
   "outputs": [
    {
     "data": {
      "image/png": "[encoded data removed]",
      "text/plain": [
       "<Figure size 720x360 with 2 Axes>"
      ]
     },
     "metadata": {
      "needs_background": "light"
     },
     "output_type": "display_data"
    }
   ],
   "source": [
    "cm = confusion_matrix(y, yhat, labels=lr.classes_)\n",
    "disp = ConfusionMatrixDisplay(confusion_matrix=cm, display_labels=lr.classes_)\n",
    "\n",
    "disp.plot()\n",
    "plt.show()"
   ]
  },
  {
   "cell_type": "code",
   "execution_count": 28,
   "id": "912a44d3",
   "metadata": {
    "execution": {
     "iopub.execute_input": "2022-08-22T04:00:47.958001Z",
     "iopub.status.busy": "2022-08-22T04:00:47.956438Z",
     "iopub.status.idle": "2022-08-22T04:00:47.963315Z",
     "shell.execute_reply": "2022-08-22T04:00:47.962111Z"
    },
    "papermill": {
     "duration": 0.029528,
     "end_time": "2022-08-22T04:00:47.966147",
     "exception": false,
     "start_time": "2022-08-22T04:00:47.936619",
     "status": "completed"
    },
    "tags": []
   },
   "outputs": [],
   "source": [
    "col1 = df_test.PassengerId"
   ]
  },
  {
   "cell_type": "code",
   "execution_count": 29,
   "id": "4b94e878",
   "metadata": {
    "execution": {
     "iopub.execute_input": "2022-08-22T04:00:47.994370Z",
     "iopub.status.busy": "2022-08-22T04:00:47.993863Z",
     "iopub.status.idle": "2022-08-22T04:00:48.003471Z",
     "shell.execute_reply": "2022-08-22T04:00:48.001825Z"
    },
    "papermill": {
     "duration": 0.028808,
     "end_time": "2022-08-22T04:00:48.007881",
     "exception": false,
     "start_time": "2022-08-22T04:00:47.979073",
     "status": "completed"
    },
    "tags": []
   },
   "outputs": [],
   "source": [
    "col2 = lr.predict(df_test)"
   ]
  },
  {
   "cell_type": "code",
   "execution_count": 30,
   "id": "a47876d1",
   "metadata": {
    "execution": {
     "iopub.execute_input": "2022-08-22T04:00:48.035578Z",
     "iopub.status.busy": "2022-08-22T04:00:48.035064Z",
     "iopub.status.idle": "2022-08-22T04:00:48.044195Z",
     "shell.execute_reply": "2022-08-22T04:00:48.042820Z"
    },
    "papermill": {
     "duration": 0.025989,
     "end_time": "2022-08-22T04:00:48.046965",
     "exception": false,
     "start_time": "2022-08-22T04:00:48.020976",
     "status": "completed"
    },
    "tags": []
   },
   "outputs": [],
   "source": [
    "df1 = pd.DataFrame(col1, columns=['PassengerId'])\n",
    "df2 = pd.DataFrame(col2, columns=['Survived'])"
   ]
  },
  {
   "cell_type": "code",
   "execution_count": 31,
   "id": "fc748d73",
   "metadata": {
    "execution": {
     "iopub.execute_input": "2022-08-22T04:00:48.074826Z",
     "iopub.status.busy": "2022-08-22T04:00:48.074275Z",
     "iopub.status.idle": "2022-08-22T04:00:48.081737Z",
     "shell.execute_reply": "2022-08-22T04:00:48.080305Z"
    },
    "papermill": {
     "duration": 0.024597,
     "end_time": "2022-08-22T04:00:48.084514",
     "exception": false,
     "start_time": "2022-08-22T04:00:48.059917",
     "status": "completed"
    },
    "tags": []
   },
   "outputs": [],
   "source": [
    "result = pd.concat([df1, df2], axis=1, join='inner')"
   ]
  },
  {
   "cell_type": "code",
   "execution_count": 32,
   "id": "789e372a",
   "metadata": {
    "execution": {
     "iopub.execute_input": "2022-08-22T04:00:48.113012Z",
     "iopub.status.busy": "2022-08-22T04:00:48.112501Z",
     "iopub.status.idle": "2022-08-22T04:00:48.122248Z",
     "shell.execute_reply": "2022-08-22T04:00:48.121088Z"
    },
    "papermill": {
     "duration": 0.027742,
     "end_time": "2022-08-22T04:00:48.124869",
     "exception": false,
     "start_time": "2022-08-22T04:00:48.097127",
     "status": "completed"
    },
    "tags": []
   },
   "outputs": [],
   "source": [
    "result.to_csv('submission.csv',index = False)"
   ]
  },
  {
   "cell_type": "code",
   "execution_count": 33,
   "id": "af9d340d",
   "metadata": {
    "execution": {
     "iopub.execute_input": "2022-08-22T04:00:48.152607Z",
     "iopub.status.busy": "2022-08-22T04:00:48.152095Z",
     "iopub.status.idle": "2022-08-22T04:00:48.166857Z",
     "shell.execute_reply": "2022-08-22T04:00:48.165265Z"
    },
    "papermill": {
     "duration": 0.031726,
     "end_time": "2022-08-22T04:00:48.169592",
     "exception": false,
     "start_time": "2022-08-22T04:00:48.137866",
     "status": "completed"
    },
    "tags": []
   },
   "outputs": [
    {
     "name": "stdout",
     "output_type": "stream",
     "text": [
      "<class 'pandas.core.frame.DataFrame'>\n",
      "RangeIndex: 418 entries, 0 to 417\n",
      "Data columns (total 2 columns):\n",
      " #   Column       Non-Null Count  Dtype\n",
      "---  ------       --------------  -----\n",
      " 0   PassengerId  418 non-null    int64\n",
      " 1   Survived     418 non-null    int64\n",
      "dtypes: int64(2)\n",
      "memory usage: 6.7 KB\n"
     ]
    }
   ],
   "source": [
    "result.info()"
   ]
  }
 ],
 "metadata": {
  "kernelspec": {
   "display_name": "Python 3",
   "language": "python",
   "name": "python3"
  },
  "language_info": {
   "codemirror_mode": {
    "name": "ipython",
    "version": 3
   },
   "file_extension": ".py",
   "mimetype": "text/x-python",
   "name": "python",
   "nbconvert_exporter": "python",
   "pygments_lexer": "ipython3",
   "version": "3.7.12"
  },
  "papermill": {
   "default_parameters": {},
   "duration": 17.527174,
   "end_time": "2022-08-22T04:00:49.411408",
   "environment_variables": {},
   "exception": null,
   "input_path": "__notebook__.ipynb",
   "output_path": "__notebook__.ipynb",
   "parameters": {},
   "start_time": "2022-08-22T04:00:31.884234",
   "version": "2.3.4"
  }
 },
 "nbformat": 4,
 "nbformat_minor": 5
}
